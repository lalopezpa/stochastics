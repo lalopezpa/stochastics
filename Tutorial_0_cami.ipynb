{
  "nbformat": 4,
  "nbformat_minor": 0,
  "metadata": {
    "colab": {
      "provenance": [],
      "collapsed_sections": [
        "r8OVeXsiyipe",
        "WxOx5PR_ccWW",
        "YAFj8xs78gte",
        "qtYK-bVRcQeN",
        "0pqvdldlyKMu"
      ],
      "include_colab_link": true
    },
    "kernelspec": {
      "name": "python3",
      "display_name": "Python 3"
    },
    "language_info": {
      "name": "python"
    }
  },
  "cells": [
    {
      "cell_type": "markdown",
      "metadata": {
        "id": "view-in-github",
        "colab_type": "text"
      },
      "source": [
        "<a href=\"https://colab.research.google.com/github/lalopezpa/stochastics/blob/main/Tutorial_0_cami.ipynb\" target=\"_parent\"><img src=\"https://colab.research.google.com/assets/colab-badge.svg\" alt=\"Open In Colab\"/></a>"
      ]
    },
    {
      "cell_type": "markdown",
      "source": [
        "\n",
        "\n",
        "![tud_logo_og_square.png](data:image/png;base64,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)\n",
        "\n",
        ">**Stochastic Modeling and Simulation**\n",
        "\n",
        "> Winter Semester 2024/25\n",
        "\n",
        "\n",
        "\n",
        "\n",
        "\n"
      ],
      "metadata": {
        "id": "s-SLarXEvXDA"
      }
    },
    {
      "cell_type": "markdown",
      "source": [
        "The following questions are for you to check whether you have understood the contents of the lecture. Your answers will not be collected or graded but we will discuss the solutions in the class. If you cannot easily answer the questions or have doubts regarding the correctness of your replies, please take a few minutes to review the contents in the book or through the web."
      ],
      "metadata": {
        "id": "cuM5_iJ6wPrW"
      }
    },
    {
      "cell_type": "markdown",
      "source": [
        "In the code cells, please change the ***None*** values between **##start** and **##end** to a desirable code or value. Then, you can run the cell."
      ],
      "metadata": {
        "id": "KAEzOBXgrKOv"
      }
    },
    {
      "cell_type": "code",
      "source": [
        "from scipy.stats import bernoulli\n",
        "import seaborn as sb\n",
        "import numpy as np\n",
        "import matplotlib.pyplot as plt\n",
        "from scipy.stats import norm"
      ],
      "metadata": {
        "id": "o-uTqJogE34_"
      },
      "execution_count": 1,
      "outputs": []
    },
    {
      "cell_type": "markdown",
      "source": [
        "# The Basic Defenitions"
      ],
      "metadata": {
        "id": "r8OVeXsiyipe"
      }
    },
    {
      "cell_type": "markdown",
      "source": [
        "1 Experimiment space {0,1} <br>\n",
        "  P(X=1) = 0.7 <br>\n",
        "  p(x=0) = 1- P(X=1) = 0.3 <br>\n",
        "\n",
        "\n",
        "2. Experiment <br>\n",
        " P(X=1) = 0.5 <br>\n",
        "  p(x=0) = 1- P(X=1) = 0.5 <br>\n",
        " $E[X] = \\sum_{i=1}^{\\infty} x_i p_i$ <br>\n",
        "  $E[X] = 1 * 0.5 + 0 * 0.5 = 0.5\n",
        "\n"
      ],
      "metadata": {
        "id": "DTmGtUaIV73E"
      }
    },
    {
      "cell_type": "markdown",
      "source": [
        "Consider the coin-tossing experiment, where a coin is flipped once. What is our sample space in this experiment?\n",
        "\n",
        "We can define a random variable *X* to be 0 if the tail comes up and 1 if the head comes up. What is the probability of each random variable?\n",
        "\n",
        "If we had a unique coin with *P(X=1) = 0.7*, how can we calculate *P(X=0)*?\n",
        "\n",
        "Assume we have 2 different experiments. In the first experiment, we have *n* normal coins (P(tail) = P(head)) and ask *n* different persons to flip these coins at the same time. In the second experiment, we have only one coin and ask a person to flip this coin *n* times in a row. Should we expect any differences between our observations in these 2 experiments? Considering these 2 experiments, can you explain iid (Independent and identically distributed) random variables?\n",
        "\n",
        "In the second experiment, assume that we have flipped the coin 5 times and we observed 4 Heads and 1 tail as the result. What can you say about the 6th flipping? Why?\n",
        "\n",
        "In the previous experiment, assume we have flipped the coin *5* times. What is our sample space? What is our Probability Space? What do you expect from the results? Can you explain your expectaion by using the mathematical definition of *Expected Value* ?\n",
        "\n",
        "$E[X] = \\sum_{i=1}^{\\infty} x_i p_i$\n",
        "\n"
      ],
      "metadata": {
        "id": "jiV8C1Kcy9PM"
      }
    },
    {
      "cell_type": "markdown",
      "source": [
        "In the box below, you can sample from a Bernoulli distribution. How can we force the samples to satisfy our expectations (equally coming up Head and Tail)?\n",
        "\n",
        "Hint: increase the number of samples"
      ],
      "metadata": {
        "id": "7v9a-IBnokXw"
      }
    },
    {
      "cell_type": "code",
      "source": [
        "## start\n",
        "# Set the size in this line as the number of flipped coins\n",
        "data_bern = bernoulli.rvs(size = 10000 ,p=0.5)\n",
        "## end\n",
        "\n",
        "ax = sb.displot(data_bern,binwidth=0.01)\n",
        "ax.set(xlabel='RV', ylabel='Frequency')"
      ],
      "metadata": {
        "id": "F38s9M7-wOZH",
        "outputId": "4525a748-e0aa-4537-a419-3128ed8c0f10",
        "colab": {
          "base_uri": "https://localhost:8080/",
          "height": 544
        }
      },
      "execution_count": 20,
      "outputs": [
        {
          "output_type": "execute_result",
          "data": {
            "text/plain": [
              "<seaborn.axisgrid.FacetGrid at 0x7b38157ab790>"
            ]
          },
          "metadata": {},
          "execution_count": 20
        },
        {
          "output_type": "display_data",
          "data": {
            "text/plain": [
              "<Figure size 500x500 with 1 Axes>"
            ],
            "image/png": "[encoded data removed]"
          },
          "metadata": {}
        }
      ]
    },
    {
      "cell_type": "markdown",
      "source": [
        "# Statistics"
      ],
      "metadata": {
        "id": "WxOx5PR_ccWW"
      }
    },
    {
      "cell_type": "markdown",
      "source": [
        "Complete the bellow code to plot a normal distribution density function with mean = 6 and SD = 2"
      ],
      "metadata": {
        "id": "ipMC0NfFcvib"
      }
    },
    {
      "cell_type": "code",
      "source": [
        "x_axis = np.arange(-100, 100, 0.001)\n",
        "\n",
        "##start\n",
        "plt.plot(x_axis, norm.pdf(x_axis,None,None))\n",
        "plt.show()\n",
        "##end"
      ],
      "metadata": {
        "id": "Es6ZrNkSclK8"
      },
      "execution_count": null,
      "outputs": []
    },
    {
      "cell_type": "markdown",
      "source": [
        "In the last section, we talked about expected value. Concerning the definition of the expected value of continuous random variables and the above pdf function, can you calculate this integral?\n",
        "\n",
        "\n",
        "$\\int_{-\\infty}^{\\infty} f_{(x)} dx $ \\\n",
        "where f is the pdf of normal distribution"
      ],
      "metadata": {
        "id": "ob3BTAkawIQA"
      }
    },
    {
      "cell_type": "markdown",
      "source": [
        "Suppose we define function ***$f$*** as $f(x) = x^2$, in which $x$ is the random variable from the above distribution. How can we calculate $Exp(f)$ concerning the mean and variance of the distribution?"
      ],
      "metadata": {
        "id": "VBPv9ukY4uDe"
      }
    },
    {
      "cell_type": "markdown",
      "source": [
        "Run the below cell to sample 10 numbers from the above distribution."
      ],
      "metadata": {
        "id": "_NQaeUJykPWl"
      }
    },
    {
      "cell_type": "code",
      "source": [
        "X = np.random.normal(6,2,10)\n",
        "print(X)"
      ],
      "metadata": {
        "id": "Fbu9PNEe02rz"
      },
      "execution_count": null,
      "outputs": []
    },
    {
      "cell_type": "markdown",
      "source": [
        "Assume that we don't know the distribution's mean and variance. How can we estimate the variance of the distribution concerning these ten numbers?\n",
        "Could you write a formula for your estimator?\n",
        "\n",
        "In the below cell, write a function to get the vector of the sampled number and return us a number as an estimation for the distribution variance."
      ],
      "metadata": {
        "id": "DRc55C6ik0il"
      }
    },
    {
      "cell_type": "code",
      "source": [
        "def Variance_Estimator(X):\n",
        "  '''\n",
        "  X is a vector that contains our random variables sampled from the distribution.\n",
        "  '''\n",
        "\n",
        "  Var = None\n",
        "\n",
        "\n",
        "  return Var"
      ],
      "metadata": {
        "id": "3gV99kX8lmFV"
      },
      "execution_count": null,
      "outputs": []
    },
    {
      "cell_type": "markdown",
      "source": [
        "In the below cell, you can test your function. By increasing the number of random variables, the estimator should be approximately equal to the real variance. Check if your estimator works well with n = 1000.\n",
        "\n",
        "What about n = 100000?"
      ],
      "metadata": {
        "id": "G_qR0hg8mTku"
      }
    },
    {
      "cell_type": "code",
      "source": [
        "##start\n",
        "n = 1000\n",
        "##end\n",
        "\n",
        "X = np.random.normal(6,2,n)\n",
        "\n",
        "Var = Variance_Estimator(X)\n",
        "\n",
        "print(\"Real Variance = \", 4)\n",
        "print(\"Your Estimation =\", Var)"
      ],
      "metadata": {
        "id": "3nFdGTcdnpVA"
      },
      "execution_count": null,
      "outputs": []
    },
    {
      "cell_type": "markdown",
      "source": [
        "A good estimator for the variance could be this formula:\n",
        "\n",
        "$Var(x) = (\\sum \\limits _{i=1} ^{N} x_{i}^2)/(N-1)$\n",
        "\n",
        "Run the below cell to define a function based on this formula, and then run the above cell again. Does it work?"
      ],
      "metadata": {
        "id": "SgveFCWQonMv"
      }
    },
    {
      "cell_type": "code",
      "source": [
        "def Variance_Estimator(X):\n",
        "  '''\n",
        "  X is a vector that contains our random variables sampled from the distribution.\n",
        "  '''\n",
        "  N = X.shape[0]\n",
        "  Mean = np.mean(X)\n",
        "  Var = np.sum(X**2-Mean**2)/(N-1)\n",
        "\n",
        "\n",
        "  return Var"
      ],
      "metadata": {
        "id": "RmpOgEcfqCYC"
      },
      "execution_count": null,
      "outputs": []
    },
    {
      "cell_type": "markdown",
      "source": [
        "# Conditional Probabilities"
      ],
      "metadata": {
        "id": "YAFj8xs78gte"
      }
    },
    {
      "cell_type": "markdown",
      "source": [
        "We have one antenna in city A for sending messages and another in city B for receiving. The catalog says the probability of obtaining the messages correctly in city B is 95 percent if there isn't rainy weather in city A. Otherwise, this probability would be decreased to 65 percent. In general, we know there is a 70 percent chance of a rainy day on a particular day in city A. But that day, we suddenly received one correct message in city B. What can you say about the probability of being rainy in city A in this situation?\n",
        "\n",
        "Hint: you can see this link and read the example on morse code. https://en.wikipedia.org/wiki/Conditional_probability\n",
        "\n",
        "\n",
        "Can you define **Postrier**, **Prior** and **Likelihood** in the antennas example?"
      ],
      "metadata": {
        "id": "Lx11wDQo8lbk"
      }
    },
    {
      "cell_type": "markdown",
      "source": [
        "# Calculus"
      ],
      "metadata": {
        "id": "qtYK-bVRcQeN"
      }
    },
    {
      "cell_type": "markdown",
      "source": [
        "Just to remember how does it work, evaluate the double integral $\\int \\int (3y-2x^2) dxdy$ \\\n",
        "where $-1\\le x \\le 2$ and $1 \\le y \\le 3$\n"
      ],
      "metadata": {
        "id": "GOzuXSS2taVJ"
      }
    },
    {
      "cell_type": "markdown",
      "source": [
        "Then, consider function H as below:\n",
        "\n",
        "$H_{(x,y)} =\n",
        "\\left\\{\n",
        "\t\\begin{array}{ll}\n",
        "\t\t1  & \\mbox{if }  x^2+y^2 \\le 1 \\\\\n",
        "\t\t0 & \\mbox{otherwise }\n",
        "\t\\end{array}\n",
        "\\right.$\n",
        "\n",
        "Can you calculate the integral of this function as follows?\n",
        "\n",
        "$\\int_{-\\infty}^{\\infty} \\int_{-\\infty}^{\\infty} H_{(x,y)} dx dy$\n",
        "\n",
        "\n",
        "Hint: use the shape of the function to calculate the integral"
      ],
      "metadata": {
        "id": "UdDM44_5iMY8"
      }
    },
    {
      "cell_type": "code",
      "source": [],
      "metadata": {
        "id": "gI3TdqxiaW-a"
      },
      "execution_count": null,
      "outputs": []
    },
    {
      "cell_type": "markdown",
      "source": [
        "The bellow code can solve this integral using stochastic! This fantastic method, called **\"Monte Carlo integration\"**, will be introduced during the lectures.\n",
        "\n",
        "Increase the number of samples in the code from 10 to 1000000 to see how the answer will converge to the analytical solution."
      ],
      "metadata": {
        "id": "PLu_9-TOkiAO"
      }
    },
    {
      "cell_type": "code",
      "source": [
        "##start\n",
        "N_Samples = None\n",
        "##end\n",
        "\n",
        "\n",
        "radius = 1\n",
        "analytical_solution = np.pi\n",
        "X = np.random.uniform(-radius, radius, N_Samples)\n",
        "Y = np.random.uniform(-radius, radius, N_Samples)\n",
        "\n",
        "inside_circle = 0\n",
        "for i in range(N_Samples):\n",
        "  if X[i]**2 + Y[i]**2 <= radius**2:\n",
        "    inside_circle += 1\n",
        "\n",
        "area = (inside_circle/N_Samples)*((2*radius)*2)\n",
        "print(\"solution = \", area)\n",
        "print(\"Error = \", abs(analytical_solution-area))"
      ],
      "metadata": {
        "id": "CCGDO1t6lmZe"
      },
      "execution_count": null,
      "outputs": []
    },
    {
      "cell_type": "markdown",
      "source": [
        "# Differential equations"
      ],
      "metadata": {
        "id": "0pqvdldlyKMu"
      }
    },
    {
      "cell_type": "markdown",
      "source": [
        "In computational neuroscience, we are interested in modeling the neural dynamics. One of the simplest models we have is \"Passive Membrane Mode\", where we assume that in a certain time period, one neural cell does not have any action potential and is just affected by neighbor cells.\n",
        "\n",
        "Classical cable theory uses mathematical models to calculate the electric current (and accompanying voltage) along the passive neuronal process, particularly the dendrites that receive synaptic inputs at different sites and times. [1]\n",
        "\n",
        "![image.png](data:image/png;base64,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)\n",
        "\n",
        "\n",
        "\n",
        "[1]: https://en.wikipedia.org/wiki/Cable_theory"
      ],
      "metadata": {
        "id": "tEwchHr_siMw"
      }
    },
    {
      "cell_type": "markdown",
      "source": [
        "Consider one bulding block of this circuit:\n",
        "\n",
        "![image.png](data:image/png;base64,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)"
      ],
      "metadata": {
        "id": "qAczs8syvd5Z"
      }
    },
    {
      "cell_type": "markdown",
      "source": [
        "Which can be described by an ODE (Ordinary Differential Equation):\n",
        "\n",
        "$R · C · \\frac{dU}{dt} = -(U-U_{rest}) + R · I{(t)}$\n",
        "\n",
        "Given initial volatge as $U(0) = 2$ and $I_{(t)} = 0$, write an equation for $U_{(t)}$ to calculate its value with repect to time.\n",
        "\n",
        "In the below cell, use Euler Method to write a funcion which gets the parameters and initial conditions as input and return the values of U in the asked time periods."
      ],
      "metadata": {
        "id": "jQY_uK_u0ZJv"
      }
    },
    {
      "cell_type": "code",
      "source": [
        "\n",
        "def Euler(U0, R, C, U_rest, Time = 10, Time_Step = 0.01):\n",
        "\n",
        "\n",
        "  T = Time/Time_Step\n",
        "  U = [U0]\n",
        "\n",
        "  for i in range(int(T)):\n",
        "    I_t = 0*i\n",
        "    du = (-(U[-1]-U_rest)/(R*C) + I_t/C)*Time_Step\n",
        "\n",
        "    ##start\n",
        "    # calculate the next value of U by adding the last value in the U list to the change rate (du)\n",
        "    U_next = None\n",
        "    ##end\n",
        "\n",
        "    U.append(U_next)\n",
        "\n",
        "  x_axis = np.arange(0, Time, Time_Step)\n",
        "  plt.plot(x_axis,U[:-1])\n",
        "  plt.show()\n",
        "\n",
        "  return U\n",
        "\n",
        "U = Euler(2, 2e+8, 3e-9, -7e-2)"
      ],
      "metadata": {
        "id": "FqGSghoN5bbZ"
      },
      "execution_count": null,
      "outputs": []
    },
    {
      "cell_type": "markdown",
      "source": [
        "The models are only sometimes deterministic like this. Occasionally, we will have noise or other stochastic components in our model.\n",
        "\n",
        "During the stochastic lectures, we will discuss involving the stochastical processes in our differential equations using SDEs (Stochastic Differential equations)."
      ],
      "metadata": {
        "id": "ykzLD1tyCFNx"
      }
    },
    {
      "cell_type": "code",
      "source": [],
      "metadata": {
        "id": "BSXpQzsRvX6l"
      },
      "execution_count": null,
      "outputs": []
    },
    {
      "cell_type": "code",
      "source": [
        "import numpy as np\n",
        "import matplotlib.pyplot as plt\n",
        "from scipy.stats import norm"
      ],
      "metadata": {
        "id": "raC_f-ZHvYfF"
      },
      "execution_count": null,
      "outputs": []
    },
    {
      "cell_type": "code",
      "source": [
        "##start\n",
        "n = 10000\n",
        "##end\n",
        "\n",
        "X = np.random.normal(6,2,n)\n",
        "\n",
        "Var = Variance_Estimator(X)\n",
        "\n",
        "print(\"Real Variance = \", 4)\n",
        "print(\"Your Estimation =\", Var)"
      ],
      "metadata": {
        "colab": {
          "base_uri": "https://localhost:8080/"
        },
        "id": "_qzeHYuovYfG",
        "outputId": "ca75a82b-e2b8-49e2-9bd6-936025441a58"
      },
      "execution_count": null,
      "outputs": [
        {
          "output_type": "stream",
          "name": "stdout",
          "text": [
            "Real Variance =  4\n",
            "Your Estimation = 4.069886419522369\n"
          ]
        }
      ]
    },
    {
      "cell_type": "code",
      "source": [
        "def Variance_Estimator(X):\n",
        "  '''\n",
        "  X is a vector that contains our random variables sampled from the distribution.\n",
        "  '''\n",
        "  N = X.shape[0]\n",
        "  Mean = np.mean(X)\n",
        "  Var = np.sum((X-Mean)**2)/(N-1)\n",
        "\n",
        "\n",
        "  return Var"
      ],
      "metadata": {
        "id": "yEagXnkdvYfG"
      },
      "execution_count": null,
      "outputs": []
    }
  ]
}