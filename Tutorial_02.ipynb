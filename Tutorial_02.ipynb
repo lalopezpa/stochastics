{
  "cells": [
    {
      "cell_type": "markdown",
      "metadata": {
        "id": "view-in-github",
        "colab_type": "text"
      },
      "source": [
        "<a href=\"https://colab.research.google.com/github/lalopezpa/stochastics/blob/main/Tutorial_02.ipynb\" target=\"_parent\"><img src=\"https://colab.research.google.com/assets/colab-badge.svg\" alt=\"Open In Colab\"/></a>"
      ]
    },
    {
      "cell_type": "markdown",
      "metadata": {
        "id": "s-SLarXEvXDA"
      },
      "source": [
        "\n",
        "\n",
        "![tud_logo_og_square.png](data:image/png;base64,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)\n",
        "\n",
        ">**Stochastic Modeling and Simulation**\n",
        "\n",
        "> Winter Semester 2024/25\n",
        "\n",
        "\n",
        "\n",
        "\n",
        "\n"
      ]
    },
    {
      "cell_type": "markdown",
      "metadata": {
        "id": "cuM5_iJ6wPrW"
      },
      "source": [
        "The following questions are for helping you in understanding the contents of the lecture. Your answers will not be collected or graded but we will discuss the solutions in the class. If you cannot easily answer the questions or have doubts regarding the correctness of your answers, please take a few minutes to review the contents in the book or through the web. Also, please feel free to ask your questions and concerns about the questions in the tutorial classes or in the Forum in the Opal."
      ]
    },
    {
      "cell_type": "markdown",
      "metadata": {
        "id": "KAEzOBXgrKOv"
      },
      "source": [
        "In the code cells, please change the ***None*** values between **##start** and **##end** to a desirable code or value. Then, you can run the cell."
      ]
    },
    {
      "cell_type": "code",
      "execution_count": 1,
      "metadata": {
        "id": "o-uTqJogE34_"
      },
      "outputs": [],
      "source": [
        "import numpy as np\n",
        "import matplotlib.pyplot as plt\n",
        "from scipy.stats import norm"
      ]
    },
    {
      "cell_type": "markdown",
      "metadata": {
        "id": "sYmgVvpy2nhx"
      },
      "source": [
        "# Continuous Distribution"
      ]
    },
    {
      "cell_type": "markdown",
      "metadata": {
        "id": "ipMC0NfFcvib"
      },
      "source": [
        "Complete the bellow code to plot a normal distribution density function with mean = 6 and SD = 2"
      ]
    },
    {
      "cell_type": "code",
      "execution_count": 3,
      "metadata": {
        "id": "Es6ZrNkSclK8",
        "colab": {
          "base_uri": "https://localhost:8080/",
          "height": 430
        },
        "outputId": "59d13965-b289-4213-d7a5-68d08f92a05f"
      },
      "outputs": [
        {
          "output_type": "display_data",
          "data": {
            "text/plain": [
              "<Figure size 640x480 with 1 Axes>"
            ],
            "image/png": "[encoded data removed]"
          },
          "metadata": {}
        }
      ],
      "source": [
        "x_axis = np.arange(-100, 100, 0.001)\n",
        "\n",
        "##start\n",
        "plt.plot(x_axis, norm.pdf(x_axis,6,2))\n",
        "plt.show()\n",
        "##end"
      ]
    },
    {
      "cell_type": "markdown",
      "metadata": {
        "id": "ob3BTAkawIQA"
      },
      "source": [
        "Concerning the definition of the expected value of continuous random variables and the above PDF function, can you calculate $M_1 = \\int_{- \\infty}^{\\infty} P_{(x)}x\\;\\mathrm{d}x$ where $P$ is the PDF of the above normal distribution?\n",
        "\n",
        "**$M_1$ is the first moment of $P$**. Can you calculate the second moment?"
      ]
    },
    {
      "cell_type": "markdown",
      "metadata": {
        "id": "_NQaeUJykPWl"
      },
      "source": [
        "Run the below cell to sample 10 numbers from the above distribution."
      ]
    },
    {
      "cell_type": "code",
      "execution_count": 4,
      "metadata": {
        "id": "Fbu9PNEe02rz",
        "colab": {
          "base_uri": "https://localhost:8080/"
        },
        "outputId": "f71f65cb-a640-471c-c852-10c11761b6d9"
      },
      "outputs": [
        {
          "output_type": "stream",
          "name": "stdout",
          "text": [
            "[5.1544719  5.71871401 7.14419616 7.69314266 9.10030279 8.41038471\n",
            " 8.29342537 5.00987421 7.41379016 8.31082021]\n"
          ]
        }
      ],
      "source": [
        "X = np.random.normal(6,2,10)\n",
        "print(X)"
      ]
    },
    {
      "cell_type": "markdown",
      "metadata": {
        "id": "DRc55C6ik0il"
      },
      "source": [
        "Assume that **we don't know the distribution's mean and variance**. How can we estimate the variance of the distribution concerning these ten numbers?\n",
        "Could you write a formula for your estimator?\n",
        "\n",
        "In the below cell, write a function to get the vector of the sampled number and return us a number as an estimation for the distribution variance."
      ]
    },
    {
      "cell_type": "code",
      "execution_count": 5,
      "metadata": {
        "id": "3gV99kX8lmFV"
      },
      "outputs": [],
      "source": [
        "def Variance_Estimator(X):\n",
        "  '''\n",
        "  X is a vector that contains our random variables sampled from the distribution.\n",
        "  '''\n",
        "\n",
        "  ## start\n",
        "\n",
        "  N = X.shape[0]  # number of samples\n",
        "  Mean = np.mean(X)  # mean of the samples\n",
        "  Var = np.sum((X - Mean)**2) / (N - 1)  # variance formula\n",
        "\n",
        "  ## end\n",
        "\n",
        "  return Var"
      ]
    },
    {
      "cell_type": "markdown",
      "metadata": {
        "id": "G_qR0hg8mTku"
      },
      "source": [
        "In the below cell, you can test your function. By increasing the number of random variables, the estimator should be approximately equal to the real variance. Check if your estimator works well with n = 1000.\n",
        "\n",
        "What about n = 100000?"
      ]
    },
    {
      "cell_type": "code",
      "execution_count": 7,
      "metadata": {
        "id": "3nFdGTcdnpVA",
        "colab": {
          "base_uri": "https://localhost:8080/"
        },
        "outputId": "b9b5d6d3-ca88-453f-a9d8-17f8e34f3f5e"
      },
      "outputs": [
        {
          "output_type": "stream",
          "name": "stdout",
          "text": [
            "Real Variance =  4\n",
            "Your Estimation = 4.020998288081918\n"
          ]
        }
      ],
      "source": [
        "##start\n",
        "n = 1000\n",
        "##end\n",
        "\n",
        "X = np.random.normal(6,2,n)\n",
        "\n",
        "Var = Variance_Estimator(X)\n",
        "\n",
        "print(\"Real Variance = \", 4)\n",
        "print(\"Your Estimation =\", Var)"
      ]
    },
    {
      "cell_type": "markdown",
      "metadata": {
        "id": "SgveFCWQonMv"
      },
      "source": [
        "A good estimator for the variance could be this formula:\n",
        "\n",
        "$Var(x) = (\\sum \\limits _{i=1} ^{N} x_{i}^2)/(N-1)$\n",
        "\n",
        "Run the below cell to define a function based on this formula, and then run the above cell again. Does it work?"
      ]
    },
    {
      "cell_type": "code",
      "execution_count": null,
      "metadata": {
        "id": "RmpOgEcfqCYC"
      },
      "outputs": [],
      "source": [
        "def Variance_Estimator(X):\n",
        "  '''\n",
        "  X is a vector that contains our random variables sampled from the distribution.\n",
        "  '''\n",
        "  N = X.shape[0]\n",
        "  Mean = np.mean(X)\n",
        "  Var = np.sum(X**2-Mean**2)/(N-1)\n",
        "\n",
        "\n",
        "  return Var"
      ]
    },
    {
      "cell_type": "markdown",
      "metadata": {
        "id": "VBPv9ukY4uDe"
      },
      "source": [
        "Suppose we define function ***$f$*** as $f(x) = x^2$, and $x$ is the random variable from the above distribution. How can we calculate $Exp(f) = \\int_{- \\infty}^{\\infty} f_{(x)} P_{(x)}\\;\\mathrm{d}x$ concerning the mean and variance of the distribution?\n",
        "\n",
        "This is the second moment of function $P$.\n",
        "\n",
        "You can estimate this second moment by n random samples obtained in the previous part."
      ]
    },
    {
      "cell_type": "code",
      "execution_count": null,
      "metadata": {
        "id": "BXwwLNtshBoh"
      },
      "outputs": [],
      "source": [
        "mean = 6\n",
        "SD = 2\n",
        "print('M2 = ', mean**2 + SD**2)\n",
        "print('Estimated M2 = ', (X**2).mean())"
      ]
    },
    {
      "cell_type": "markdown",
      "metadata": {
        "id": "XiF8NYnl_7tu"
      },
      "source": [
        "# Discrete Distribution"
      ]
    },
    {
      "cell_type": "markdown",
      "metadata": {
        "id": "OLM_RpYEEvjc"
      },
      "source": [
        "Assume we tossed a fair dice 10,000 times. As we saw in the lecture notes, the results should follow a uniform distribution between 1 and 6. What is the expected value of oucome?\n",
        "\n",
        "Could you complete the below cell to simulate this experiment?"
      ]
    },
    {
      "cell_type": "code",
      "execution_count": 9,
      "metadata": {
        "id": "DzoETuU-AKd4",
        "colab": {
          "base_uri": "https://localhost:8080/",
          "height": 472
        },
        "outputId": "b8b87108-21b3-43a9-c94f-451aa9520eaa"
      },
      "outputs": [
        {
          "output_type": "execute_result",
          "data": {
            "text/plain": [
              "(0.0, 1.0)"
            ]
          },
          "metadata": {},
          "execution_count": 9
        },
        {
          "output_type": "display_data",
          "data": {
            "text/plain": [
              "<Figure size 640x480 with 1 Axes>"
            ],
            "image/png": "[encoded data removed]"
          },
          "metadata": {}
        }
      ],
      "source": [
        "## start\n",
        "N = 10000\n",
        "data = np.random.randint(low = 1, high= 7, size= N, dtype=int)\n",
        "## end\n",
        "\n",
        "unique, counts = np.unique(data, return_counts=True)\n",
        "plt.scatter(unique, counts/N)\n",
        "plt.xlabel(\"outcome\")\n",
        "plt.ylabel(\"frequency / N\")\n",
        "plt.ylim([0, 1])"
      ]
    },
    {
      "cell_type": "markdown",
      "metadata": {
        "id": "B5j4_SUfKA-g"
      },
      "source": [
        "Assume in the previous experiment, we had a red (r) and a blue (b) dice.\n",
        "Suppose we toss both and write their sum $ x =  r +  b$ each time.\n",
        "\n",
        "1. Can you estimate the $Exp(x)$ concerning the previous experiment? (We calculated the expected value for one dice in the previous experiment.)\n",
        "\n",
        "2. What about $Exp(w)$ where $w = 10 \\cdot r + 2\\cdot b$ ?\n",
        "\n",
        "3. What is the probability mass function (PMF) of $x$?\n",
        "\n",
        "The code below can give us a possible result for 10,000 tossings. See if your estimations work here!"
      ]
    },
    {
      "cell_type": "code",
      "execution_count": null,
      "metadata": {
        "id": "slX0AhvVKAbQ"
      },
      "outputs": [],
      "source": [
        "## start\n",
        "N = 10000\n",
        "data_r = np.random.randint(low = 1, high= 7, size= N, dtype=int)\n",
        "data_b = None\n",
        "sum = 10*data_r + 2*data_b\n",
        "## end\n",
        "\n",
        "unique, counts = np.unique(sum, return_counts=True)\n",
        "plt.scatter(unique, counts/N)\n",
        "plt.xlabel(\"outcome\")\n",
        "plt.ylabel(\"frequency / N\")\n",
        "plt.ylim([0, 1])"
      ]
    },
    {
      "cell_type": "markdown",
      "metadata": {
        "id": "4mB0n4q9RiEi"
      },
      "source": [
        "What if we repeated this experiment with ten different dice? Let's do this and also compare the result with the normal distribution!"
      ]
    },
    {
      "cell_type": "code",
      "execution_count": null,
      "metadata": {
        "id": "nmDQxOLmOANj"
      },
      "outputs": [],
      "source": [
        "N = 10000\n",
        "sum = np.random.randint(low = 1, high= 7, size= N, dtype=int)\n",
        "for i in range(9):\n",
        "  ## start\n",
        "  sum += None\n",
        "  ## end\n",
        "\n",
        "x_axis = np.arange(10, 60, 0.001)\n",
        "unique, counts = np.unique(sum, return_counts=True)\n",
        "plt.scatter(unique, counts/N)\n",
        "plt.plot(x_axis, norm.pdf(x_axis,35,4), 'r')\n",
        "plt.xlabel(\"outcome\")\n",
        "plt.ylabel(\"frequency / N\")\n",
        "plt.ylim([0, 1])"
      ]
    },
    {
      "cell_type": "markdown",
      "metadata": {
        "id": "9kebIXvCTRo4"
      },
      "source": [
        "In the two-dice experiment,\n",
        "\n",
        "1. what is the joint probability $P_{red,blue} (red < blue)$?\n",
        "\n",
        "2. What is the marginal distribution of blue dice?\n",
        "\n",
        "3. What is the conditional probability $P(red = 3 | sum = 4)$?\n",
        "\n",
        "4. What is the $Exp(m)$ where $m = red \\cdot blue$ ?"
      ]
    },
    {
      "cell_type": "markdown",
      "metadata": {
        "id": "jVECE6o5XabG"
      },
      "source": [
        "Let's Simulate the answers"
      ]
    },
    {
      "cell_type": "code",
      "execution_count": 13,
      "metadata": {
        "id": "Z8u-_mcSvLlB",
        "colab": {
          "base_uri": "https://localhost:8080/"
        },
        "outputId": "0063962a-1892-4877-991e-17779da0dc1b"
      },
      "outputs": [
        {
          "output_type": "stream",
          "name": "stdout",
          "text": [
            "Estimated Joint Probability red < blue =  0.4141\n",
            "Estimated Pr(red = 3 | sum == 4) =  0.0284\n",
            "Estimated Expectation(red * blue) =  12.2389\n"
          ]
        }
      ],
      "source": [
        "N = 10000\n",
        "data_r = np.random.randint(low = 1, high= 7, size= N, dtype=int)\n",
        "data_b = np.random.randint(low = 1, high= 7, size= N, dtype=int)\n",
        "\n",
        "def Joint_Prob(data_r, data_b, N):\n",
        "    J = 0\n",
        "    for i in range (data_r.shape[0]):\n",
        "        if data_r[i] < data_b[i]:\n",
        "            J += 1\n",
        "    J = J / N\n",
        "    return J\n",
        "\n",
        "print(\"Estimated Joint Probability red < blue = \", Joint_Prob(data_r, data_b, N))\n",
        "\n",
        "def Cond_Prob(data_r, data_b, N):\n",
        "    C = 0\n",
        "    for i in range (data_r.shape[0]):\n",
        "        if data_r[i] + data_b[i] == 4:  # Si la suma es 4\n",
        "            if data_r[i] == 3:  # Y si el dado rojo es 3\n",
        "                C += 1\n",
        "    C = C / N\n",
        "    return C\n",
        "\n",
        "print(\"Estimated Pr(red = 3 | sum == 4) = \", Cond_Prob(data_r, data_b, N))\n",
        "\n",
        "def Exp_Mul(data_r, data_b, N):\n",
        "    dot = data_r * data_b  # Multiplicación de los dos dados\n",
        "    E = dot.mean()  # Media de la multiplicación\n",
        "    return E\n",
        "\n",
        "print(\"Estimated Expectation(red * blue) = \", Exp_Mul(data_r, data_b, N))\n"
      ]
    },
    {
      "cell_type": "markdown",
      "metadata": {
        "id": "AFGVn8FRZhgF"
      },
      "source": [
        "# Scale Free Distributions"
      ]
    },
    {
      "cell_type": "markdown",
      "metadata": {
        "id": "GO-DJE0q1UEp"
      },
      "source": [
        "A classic example of a scale-free distribution is the power low :\n",
        "\n",
        "$P_{(x)} = x^{-a}, a > 0$\n",
        "\n",
        "Run the below code and see the difference between this distribution and normal distribution"
      ]
    },
    {
      "cell_type": "code",
      "execution_count": null,
      "metadata": {
        "id": "mXGWsANb1-0t"
      },
      "outputs": [],
      "source": [
        "fig, ax = plt.subplots(4,2)\n",
        "\n",
        "x1_axis = np.arange(0, 0.5, 0.001)\n",
        "x2_axis = np.arange(1.5, 2, 0.001)\n",
        "x3_axis = np.arange(3.5, 4, 0.001)\n",
        "x4_axis = np.arange(4.5, 5, 0.001)\n",
        "\n",
        "##start\n",
        "ax[0,0].plot(x1_axis, norm.pdf(x1_axis,0,0.25), 'r')\n",
        "ax[0,1].plot(x1_axis, x1_axis ** (-2), 'b')\n",
        "ax[1,0].plot(x2_axis, norm.pdf(x2_axis,0,0.25), 'r')\n",
        "ax[1,1].plot(x2_axis, x2_axis ** (-2), 'b')\n",
        "ax[2,0].plot(x3_axis, norm.pdf(x3_axis,0,0.25), 'r')\n",
        "ax[2,1].plot(x3_axis, x3_axis ** (-2), 'b')\n",
        "ax[3,0].plot(x4_axis, norm.pdf(x4_axis,0,0.25), 'r')\n",
        "ax[3,1].plot(x4_axis, x4_axis ** (-2), 'b')\n",
        "plt.subplots_adjust(wspace=0.4,\n",
        "                    hspace=0.4)\n",
        "plt.show()"
      ]
    }
  ],
  "metadata": {
    "colab": {
      "provenance": [],
      "include_colab_link": true
    },
    "kernelspec": {
      "display_name": "Python 3",
      "name": "python3"
    },
    "language_info": {
      "name": "python"
    }
  },
  "nbformat": 4,
  "nbformat_minor": 0
}